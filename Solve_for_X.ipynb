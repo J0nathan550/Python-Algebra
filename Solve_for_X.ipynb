{
  "nbformat": 4,
  "nbformat_minor": 0,
  "metadata": {
    "colab": {
      "provenance": [],
      "toc_visible": true,
      "authorship_tag": "ABX9TyOi23jr/aT1a7JotLN7mtxK"
    },
    "kernelspec": {
      "name": "python3",
      "display_name": "Python 3"
    },
    "language_info": {
      "name": "python"
    }
  },
  "cells": [
    {
      "cell_type": "markdown",
      "source": [
        "# **Solve for X**"
      ],
      "metadata": {
        "id": "GGmWWT34jl9f"
      }
    },
    {
      "cell_type": "markdown",
      "source": [
        "<p align=\"center\"><b>Algebra Solve for X</b></p>\n",
        "<p>Algebra solve for X is to way find the unknown value of the equation. In order to find unknown value you need to grab known value, reverse it operation (+ = -); (* = /) and calculate value on the right.</p>\n",
        "Example of the unknown X value:\n",
        "\n",
        "```cs\n",
        "x + 2 = 3; \n",
        "x = 3 - 2 = 1;\n",
        "1 + 2 = 3; \n",
        "```\n",
        "\n",
        "<p>Value can be also tricky when it comes to solve X value with multiple values in the equation.</p>\n",
        "Example of the unknown X value with multiple values in the equation: \n",
        "\n",
        "```cs\n",
        "4x + 6 = 22\n",
        "4x = 22 - 6 = 16 \n",
        "4x = 16\n",
        "x = 4 / 16 = 4\n",
        "4 * 4 + 6 = 22. \n",
        "```\n"
      ],
      "metadata": {
        "id": "f9-ZhoyfhPCt"
      }
    },
    {
      "cell_type": "markdown",
      "source": [
        "# **Python Solve for X**"
      ],
      "metadata": {
        "id": "w2vu_t48jwsP"
      }
    },
    {
      "cell_type": "markdown",
      "source": [
        "Solving for X. Put inside of the variable `equation` your equation, note that this equation set equal to zero. This will print an array of solutions."
      ],
      "metadata": {
        "id": "XLXWLdKYhG1s"
      }
    },
    {
      "cell_type": "code",
      "execution_count": 17,
      "metadata": {
        "colab": {
          "base_uri": "https://localhost:8080/"
        },
        "id": "ZDummaMYdTpb",
        "outputId": "aab91a0a-d291-4a24-86f6-73cfed7c2139"
      },
      "outputs": [
        {
          "output_type": "stream",
          "name": "stdout",
          "text": [
            "x = [2]\n"
          ]
        }
      ],
      "source": [
        "import sympy\n",
        "from sympy import symbols\n",
        "from sympy.solvers import solve\n",
        "\n",
        "x = symbols('x')\n",
        "\n",
        "# Put the equation here\n",
        "equation = 2 ** x - 4\n",
        "\n",
        "print(\"x =\", solve(equation,x))\n"
      ]
    },
    {
      "cell_type": "markdown",
      "source": [
        "# **Extra Problems**"
      ],
      "metadata": {
        "id": "DAuBmLELnFNv"
      }
    },
    {
      "cell_type": "code",
      "source": [
        "import sympy\n",
        "from sympy import symbols\n",
        "from sympy.solvers import solve\n",
        "\n",
        "x = symbols('x')\n",
        "\n",
        "# Put the equation here\n",
        "equation = 2*x**2 - 9\n",
        "\n",
        "solve(equation,x)"
      ],
      "metadata": {
        "colab": {
          "base_uri": "https://localhost:8080/"
        },
        "id": "dKyYjAEznY6m",
        "outputId": "80a02e01-6c56-47b8-b2a9-4e4bf85c3f1c"
      },
      "execution_count": 19,
      "outputs": [
        {
          "output_type": "execute_result",
          "data": {
            "text/plain": [
              "[-3*sqrt(2)/2, 3*sqrt(2)/2]"
            ]
          },
          "metadata": {},
          "execution_count": 19
        }
      ]
    },
    {
      "cell_type": "markdown",
      "source": [
        "**Solving Equations with input of the user**"
      ],
      "metadata": {
        "id": "FTaBuFB7n0sZ"
      }
    },
    {
      "cell_type": "code",
      "source": [
        "import sympy\n",
        "from sympy import symbols\n",
        "from sympy.solvers import solve\n",
        "\n",
        "x = symbols('x')\n",
        "\n",
        "equation = input('Enter equation 0 = ')\n",
        "\n",
        "print(\"x =\", solve(equation,x))\n"
      ],
      "metadata": {
        "colab": {
          "base_uri": "https://localhost:8080/"
        },
        "id": "vbrKF-j9n_p_",
        "outputId": "ad64ab5f-2f27-4e02-a927-ca8e521c0d68"
      },
      "execution_count": 20,
      "outputs": [
        {
          "output_type": "stream",
          "name": "stdout",
          "text": [
            "Enter equation 0 = 2 * x - 4\n",
            "x = [2]\n"
          ]
        }
      ]
    },
    {
      "cell_type": "markdown",
      "source": [
        "With `sympy` you can print not every single solution, but one, or two, or any solution you like with help of the index. "
      ],
      "metadata": {
        "id": "xdqW65AKounD"
      }
    },
    {
      "cell_type": "code",
      "source": [
        "import sympy\n",
        "from sympy import symbols\n",
        "from sympy.solvers import solve\n",
        "\n",
        "x = symbols('x')\n",
        "\n",
        "equation = input('Enter equation 0 = ')\n",
        "\n",
        "solution = solve(equation,x)\n",
        "\n",
        "print(\"x =\", solution[0])\n"
      ],
      "metadata": {
        "colab": {
          "base_uri": "https://localhost:8080/"
        },
        "id": "HPcYFF5Oo7qQ",
        "outputId": "20f0d99c-ffed-4641-f971-cf3bfdc2e244"
      },
      "execution_count": 26,
      "outputs": [
        {
          "output_type": "stream",
          "name": "stdout",
          "text": [
            "Enter equation 0 = (x-1)*(x-2)*(x-3)\n",
            "x = 1\n"
          ]
        }
      ]
    },
    {
      "cell_type": "markdown",
      "source": [
        "You can also have multiple answer using `sympy`"
      ],
      "metadata": {
        "id": "7sF41rkWpWFG"
      }
    },
    {
      "cell_type": "code",
      "source": [
        "import sympy\n",
        "from sympy import symbols\n",
        "from sympy.solvers import solve\n",
        "\n",
        "x = symbols('x')\n",
        "\n",
        "equation = input('Enter equation 0 = ')\n",
        "\n",
        "solutions = solve(equation,x)\n",
        "\n",
        "for s in solutions:\n",
        "  print(\"x =\", s)\n"
      ],
      "metadata": {
        "colab": {
          "base_uri": "https://localhost:8080/"
        },
        "id": "5S4SG65ypa6T",
        "outputId": "0efe03fc-0a76-406b-ea39-8bf50faf2b56"
      },
      "execution_count": 24,
      "outputs": [
        {
          "output_type": "stream",
          "name": "stdout",
          "text": [
            "Enter equation 0 = (x-1)*(x-2)*(x-3)\n",
            "x = 1\n",
            "x = 2\n",
            "x = 3\n"
          ]
        }
      ]
    },
    {
      "cell_type": "markdown",
      "source": [
        "Solving in other ways \n"
      ],
      "metadata": {
        "id": "shfc-p9UroWY"
      }
    },
    {
      "cell_type": "code",
      "source": [
        "from sympy import * \n",
        "\n",
        "var ('x y')\n",
        "\n",
        "#First equation set equal to zero, ready to solve \n",
        "first = 2*x + 10 - y \n",
        "\n",
        "#Sympy syntax for equation is equal to zero, ready to factor\n",
        "eq1 = Eq(first, 0)\n",
        "\n",
        "#Sympy solve for X \n",
        "sol = solve(eq1, x)\n",
        "\n",
        "#Show factored results \n",
        "print(\"x =\", sol[0])\n"
      ],
      "metadata": {
        "colab": {
          "base_uri": "https://localhost:8080/"
        },
        "id": "PfuNRKYer4yh",
        "outputId": "30fce323-b7e3-4982-ca67-1827ae5c6683"
      },
      "execution_count": 29,
      "outputs": [
        {
          "output_type": "stream",
          "name": "stdout",
          "text": [
            "x = y/2 - 5\n"
          ]
        }
      ]
    },
    {
      "cell_type": "markdown",
      "source": [
        "Factoring "
      ],
      "metadata": {
        "id": "YSAKMcxgt3qo"
      }
    },
    {
      "cell_type": "code",
      "source": [
        "import sympy \n",
        "from sympy import symbols\n",
        "\n",
        "var ('x y')\n",
        "\n",
        "#First equation set equal to zero, ready to solve \n",
        "#equation = 2*x + 10*y + 4 \n",
        "#equation = x**2-4\n",
        "equation = x**3 - 2*x**2 - 5*x + 6\n",
        "\n",
        "# If it is not factorable it will print the equation that you typed before. \n",
        "sympy.factor(equation)\n"
      ],
      "metadata": {
        "colab": {
          "base_uri": "https://localhost:8080/",
          "height": 38
        },
        "id": "5FCRJNw2t9DS",
        "outputId": "a43b2127-7400-4ae6-e4ff-f1226a10857e"
      },
      "execution_count": 33,
      "outputs": [
        {
          "output_type": "execute_result",
          "data": {
            "text/plain": [
              "(x - 3)*(x - 1)*(x + 2)"
            ],
            "text/latex": "$\\displaystyle \\left(x - 3\\right) \\left(x - 1\\right) \\left(x + 2\\right)$"
          },
          "metadata": {},
          "execution_count": 33
        }
      ]
    }
  ]
}
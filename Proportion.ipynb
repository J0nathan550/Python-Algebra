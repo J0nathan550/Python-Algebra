{
  "cells": [
    {
      "cell_type": "markdown",
      "source": [
        "# Proportion"
      ],
      "metadata": {
        "id": "rweZ8jh2O2wR"
      }
    },
    {
      "cell_type": "code",
      "execution_count": 50,
      "metadata": {
        "colab": {
          "base_uri": "https://localhost:8080/"
        },
        "id": "0DYx0UaUnT8x",
        "outputId": "23002ca5-4a1f-4a9f-d910-7d028afd6c34"
      },
      "outputs": [
        {
          "output_type": "stream",
          "name": "stdout",
          "text": [
            "n2 = 330.84\n"
          ]
        }
      ],
      "source": [
        "# Put a zero in for the unknown value; proportion - is the formula to find if the whole equation equals to specific value.\n",
        "# In orderer to find if the equation equals to specific number, you need to multiply number crossways, and divided by the value that are known in fraction. \n",
        "#\n",
        "#  n1    x            \n",
        "#  -- = ---           (do the cross)\n",
        "#  d1    d2\n",
        "#\n",
        "#  *Very useful to convert items, like money, miles, whatever.\n",
        "#\n",
        "\n",
        "n1 = 36.76\n",
        "d1 = 1\n",
        "n2 = 0 \n",
        "d2 = 9\n",
        "\n",
        "if n2 == 0:\n",
        "  answer = d2 * n1 / d1\n",
        "  print(\"n2 =\", answer)\n",
        "if d2 == 0:\n",
        "  answer = n2 * d1 / n1\n",
        "  print(\"d2 = \", answer)\n",
        "if n1 == 0: \n",
        "  answer = d1 * n2 / d2 \n",
        "  print(\"n1 = \", answer)\n",
        "if d1 == 0: \n",
        "  answer = n1 * d2 / n2\n",
        "  print(\"d1 = \", answer) \n",
        "\n"
      ]
    },
    {
      "cell_type": "code",
      "source": [
        "# Converting miles into kilomiters. \n",
        "\n",
        "n1 = 1 # miles\n",
        "d1 = 1.609 # kilometers\n",
        "n2 = 0 \n",
        "d2 = 9\n",
        "\n",
        "if n2 == 0:\n",
        "  answer = d2 * n1 / d1\n",
        "  print(\"miles =\", answer)\n",
        "if d2 == 0:\n",
        "  answer = n2 * d1 / n1\n",
        "  print(\"kilomiters = \", answer)\n"
      ],
      "metadata": {
        "colab": {
          "base_uri": "https://localhost:8080/"
        },
        "id": "UBh-0EE7cmn3",
        "outputId": "308f1eb9-7df5-4ebe-b338-3380dc6c9463"
      },
      "execution_count": 52,
      "outputs": [
        {
          "output_type": "stream",
          "name": "stdout",
          "text": [
            "miles = 5.593536357986327\n"
          ]
        }
      ]
    },
    {
      "cell_type": "markdown",
      "source": [
        "# Extra Problems"
      ],
      "metadata": {
        "id": "DKl3FIETOxP_"
      }
    },
    {
      "cell_type": "code",
      "source": [
        "# Way to remove decimal from any number.\n",
        "x = .6666666666666666\n",
        "print(x)\n",
        "x10 = x * 10\n",
        "print(x10)\n",
        "x9 = round(x * 9)\n",
        "print(x9)\n",
        "\n"
      ],
      "metadata": {
        "colab": {
          "base_uri": "https://localhost:8080/"
        },
        "id": "sQYmyLkTO0_6",
        "outputId": "65aa1701-fa77-466f-bfb9-baa278b8fa2c"
      },
      "execution_count": 39,
      "outputs": [
        {
          "output_type": "stream",
          "name": "stdout",
          "text": [
            "0.6666666666666666\n",
            "6.666666666666666\n",
            "6.0\n"
          ]
        }
      ]
    },
    {
      "cell_type": "code",
      "source": [
        "x = .44444444444\n",
        "print(x)\n",
        "x10 = x * 10\n",
        "print(x10)\n",
        "x9 = round(9 * x)\n",
        "print(x9)\n",
        "\n"
      ],
      "metadata": {
        "colab": {
          "base_uri": "https://localhost:8080/"
        },
        "id": "t8sfqba0U1Eu",
        "outputId": "b225cc30-574a-4a8c-de62-f9f27e3120f1"
      },
      "execution_count": 44,
      "outputs": [
        {
          "output_type": "stream",
          "name": "stdout",
          "text": [
            "0.44444444444\n",
            "4.4444444444\n",
            "4\n"
          ]
        }
      ]
    },
    {
      "cell_type": "code",
      "source": [
        "x = .99999999999\n",
        "print(x)\n",
        "x10 = 10 * x\n",
        "print(x10)\n",
        "x9 = round(10 * x - 1)\n",
        "print(x9)"
      ],
      "metadata": {
        "colab": {
          "base_uri": "https://localhost:8080/"
        },
        "id": "2NTEIs1XWZMj",
        "outputId": "4e45f56e-ecdf-495a-e93a-c018bee560c1"
      },
      "execution_count": 42,
      "outputs": [
        {
          "output_type": "stream",
          "name": "stdout",
          "text": [
            "0.99999999999\n",
            "9.9999999999\n",
            "9\n"
          ]
        }
      ]
    },
    {
      "cell_type": "markdown",
      "source": [
        "# Conslusion\n",
        "Proportions are very helpful to find out how much is what, and useful to exchange items.\n",
        "\n",
        "With help of proportion you can easily convert your dollars to grivnya using given formula:\n",
        "\n",
        "\n",
        "\n",
        "\n",
        "```\n",
        "n1 (dollars)          n2 (dollars)    | \n",
        "-----------     =    ------------     | Put X on value that you want to find out.\n",
        "d1 (grivnya)          d2 (grivnya)    |\n",
        "```\n",
        "\n",
        "<p align = \"center\">That was the first lesson of Algebra with Python, see you next time!</p>\n"
      ],
      "metadata": {
        "id": "qqdEihP0deQC"
      }
    }
  ],
  "metadata": {
    "colab": {
      "toc_visible": true,
      "provenance": [],
      "authorship_tag": "ABX9TyMDxC2aAKO2Qsnd4/9IXNva"
    },
    "kernelspec": {
      "display_name": "Python 3",
      "name": "python3"
    },
    "language_info": {
      "name": "python"
    }
  },
  "nbformat": 4,
  "nbformat_minor": 0
}